{
  "cells": [
    {
      "cell_type": "markdown",
      "metadata": {
        "colab_type": "text",
        "id": "view-in-github"
      },
      "source": [
        "# Working with Hashes\n",
        "\n",
        "![Redis](https://redis.com/wp-content/themes/wpx/assets/images/logo-redis.svg?auto=webp&quality=85,75&width=120)\n",
        "\n",
        "<a href=\"https://colab.research.google.com/github/arora-manish/Redis-Workshops/blob/main/01-Introduction/Working-with-Hashes.ipynb\" target=\"_parent\"><img src=\"https://colab.research.google.com/assets/colab-badge.svg\" alt=\"Open In Colab\"/></a>\n",
        "\n",
        "This notebook is an adapted and simplified version of the RedisInsight QuickGuide \"Working with Hashes\".\n",
        "\n",
        "For the full experience we'd recommend installing [Redis Insight](https://redis.com/redis-enterprise/redis-insight/) and going through tutorial there.\n",
        "\n",
        "**Colab supports only Python. To use Redis with Python, you need a Redis Python client.**\n",
        "\n",
        "To install Redis and the Redis Python client:\n",
        "\n"
      ]
    },
    {
      "cell_type": "code",
      "execution_count": null,
      "metadata": {
        "colab": {
          "base_uri": "https://localhost:8080/"
        },
        "id": "maAiICvM-cTX",
        "outputId": "363e893a-8a1c-46c7-932a-3245458bafb4"
      },
      "outputs": [],
      "source": [
        "# Install the requirements\n",
        "!pip install -q redis"
      ]
    },
    {
      "cell_type": "markdown",
      "metadata": {},
      "source": [
        "## Install Redis Stack\n",
        "\n",
        "Install recent [stable versions of Redis Stack](https://redis.io/docs/getting-started/install-stack/linux/) and start the Redis Server."
      ]
    },
    {
      "cell_type": "code",
      "execution_count": null,
      "metadata": {
        "colab": {
          "base_uri": "https://localhost:8080/"
        },
        "id": "6CjMuWlOxYoZ",
        "outputId": "58221221-a2e4-4320-9cf6-daea8679761f"
      },
      "outputs": [],
      "source": [
        "%%sh\n",
        "curl -fsSL https://packages.redis.io/gpg | sudo gpg --dearmor -o /usr/share/keyrings/redis-archive-keyring.gpg \n",
        "echo \"deb [signed-by=/usr/share/keyrings/redis-archive-keyring.gpg] https://packages.redis.io/deb $(lsb_release -cs) main\" | sudo tee /etc/apt/sources.list.d/redis.list \n",
        "sudo apt-get update  > /dev/null 2>&1\n",
        "sudo apt-get install redis-stack-server  > /dev/null 2>&1\n",
        "redis-stack-server --daemonize yes "
      ]
    },
    {
      "cell_type": "code",
      "execution_count": null,
      "metadata": {
        "id": "zfpejTkuASuZ"
      },
      "outputs": [],
      "source": [
        "import redis\n",
        "import os"
      ]
    },
    {
      "cell_type": "code",
      "execution_count": null,
      "metadata": {
        "id": "x47s7mlR_zYB"
      },
      "outputs": [],
      "source": [
        "REDIS_HOST = os.getenv(\"REDIS_HOST\", \"localhost\")\n",
        "REDIS_PORT = os.getenv(\"REDIS_PORT\", \"6379\")\n",
        "REDIS_PASSWORD = os.getenv(\"REDIS_PASSWORD\", \"\")\n",
        "#Replace values above with your own if using Redis Cloud instance\n",
        "#REDIS_HOST=\"redis-12110.c82.us-east-1-2.ec2.cloud.redislabs.com\"\n",
        "#REDIS_PORT=12110\n",
        "#REDIS_PASSWORD=\"pobhBJP7Psicp2gV0iqa2ZOc1XXXXXX\"\n",
        "\n",
        "#shortcut for redis-cli $REDIS_CONN command\n",
        "if REDIS_PASSWORD!=\"\":\n",
        "  os.environ[\"REDIS_CONN\"]=f\"-h {REDIS_HOST} -p {REDIS_PORT} -a {REDIS_PASSWORD} --no-auth-warning\"\n",
        "else:\n",
        "  os.environ[\"REDIS_CONN\"]=f\"-h {REDIS_HOST} -p {REDIS_PORT}\""
      ]
    },
    {
      "cell_type": "code",
      "execution_count": null,
      "metadata": {
        "colab": {
          "base_uri": "https://localhost:8080/"
        },
        "id": "DbKb8mnWQO-5",
        "outputId": "46230c24-a001-4a41-9984-7543409d4486"
      },
      "outputs": [],
      "source": [
        "r = redis.Redis(\n",
        "  host=REDIS_HOST,\n",
        "  port=REDIS_PORT,\n",
        "  password=REDIS_PASSWORD)\n",
        "r.ping()"
      ]
    },
    {
      "cell_type": "markdown",
      "metadata": {},
      "source": [
        "# CRUD Operations\n",
        "\n",
        "Reading and managing hashes is done through the `HSET` and `HGET` commands. Let's look at a few examples of working with a document t    hat represents a product with the following structure:\n",
        "\n",
        "```python\n",
        "school:1\n",
        "--------\n",
        "name: Hall School\n",
        "description: An independent...\n",
        "class: independent/state\n",
        "type: traditional/montessori/forest...\n",
        "address_city: London\n",
        "address_street: Manor Street\n",
        "students: 342\n",
        "location: \"51.445417, -0.258352\"\n",
        "``` "
      ]
    },
    {
      "cell_type": "markdown",
      "metadata": {},
      "source": [
        "## Create\n",
        "To begin with, let's create a few documents:"
      ]
    },
    {
      "cell_type": "code",
      "execution_count": null,
      "metadata": {},
      "outputs": [],
      "source": [
        "# Each of the documents below represents a school and it will be created as a Redis Hash\n",
        "\n",
        "!redis-cli $REDIS_CONN HSET school:1 \"name\" \"Hall School\" \"description\" \" Spanning 10 states, this school's award-winning curriculum includes a comprehensive reading system (from letter recognition and phonics to reading full-length books), as well as math, science, social studies, and even  philosophy. \" \"class\" \"independent\" \"type\" \"traditional\" \"address_city\" \"London\" \"address_street\" \"Manor Street\" \"students\" 342 \"location\" \"51.445417, -0.258352\"\n",
        "!redis-cli $REDIS_CONN HSET school:2 \"name\" \"Garden School\" \"description\" \"Garden School is a new and innovative outdoor teaching and learning experience, offering rich and varied activities in a natural environment to children and families.\" \"class\" \"state\" \"type\" \"forest; montessori;\" \"address_city\" \"London\" \"address_street\" \"Gordon Street\" \"students\" 1452 \"location\" \"51.402926, -0.321523\"\n",
        "!redis-cli $REDIS_CONN HSET school:3 \"name\" \"Gillford School\" \"description\" \"Gillford School is an inclusive learning centre welcoming people from all walks of life, here invited to step into their role as regenerative agents, creating new pathways into the future and inciting an international movement of cultural, land, and social transformation.\" \"class\" \"private\" \"type\" \"democratic; waldorf\" \"address_city\" \"Goudhurst\" \"address_street\" \"Goudhurst\" \"students\" 721 \"location\" \"51.112685, 0.451076\"\n",
        "!redis-cli $REDIS_CONN HSET school:4 \"name\" \"Forest School\" \"description\" \"The philosophy behind Forest School is based upon the desire to provide young children with an education that encourages appreciation of the wide world in nature while achieving independence, confidence and high self-esteem. \" \"class\" \"independent\" \"type\" \"forest; montessori; democratic\" \"address_city\" \"Oxford\" \"address_street\" \"Trident Street\" \"students\" 1200 \"location\" \"51.781756, -1.123196\""
      ]
    },
    {
      "cell_type": "markdown",
      "metadata": {},
      "source": [
        "## Read \n",
        "\n",
        "To read what we just wrote we can use the `HGETALL` command (to get the whole document), or we can get a single element by using the `HGET` command:\n",
        "\n",
        "```python\n",
        "HGETALL school:1 # Read the whole document\n",
        "\n",
        "HGET school:1 description # Read the field description only\n",
        "```"
      ]
    },
    {
      "cell_type": "code",
      "execution_count": null,
      "metadata": {},
      "outputs": [],
      "source": [
        "!redis-cli $REDIS_CONN HGETALL school:1 # Read the whole document\n",
        "\n",
        "!redis-cli $REDIS_CONN HGET school:1 description # Read the field description only"
      ]
    },
    {
      "cell_type": "markdown",
      "metadata": {},
      "source": [
        "## Update\n",
        "\n",
        "Updating documents is also possible on a single element level, or if needed, you can replace the whole document atomically, in a single command:\n",
        "```python\n",
        "HGET school:1 students # Read the students field before the update\n",
        "\n",
        "HSET school:1 \"students\"  343 # Update the students field\n",
        "\n",
        "HGET school:1 students # Read the students field after the update\n",
        "\n",
        "```"
      ]
    },
    {
      "cell_type": "code",
      "execution_count": null,
      "metadata": {},
      "outputs": [],
      "source": [
        "!redis-cli $REDIS_CONN HGET school:1 students # Read the students field before the update\n",
        "\n",
        "!redis-cli $REDIS_CONN HSET school:1 \"students\"  343 # Update the students field\n",
        "\n",
        "!redis-cli $REDIS_CONN HGET school:1 students # Read the students field after the update"
      ]
    },
    {
      "cell_type": "markdown",
      "metadata": {},
      "source": [
        "## Delete\n"
      ]
    },
    {
      "cell_type": "markdown",
      "metadata": {},
      "source": [
        "### Delete an element\n",
        "The command `HDEL` will delete a single element from a document. To delete a whole document we use the standard key deletion command in Redis - `DEL`. If you need to delete more than a few documents though, please use the asynchronous version `UNLINK`\n",
        "```python\n",
        "HGET school:1  name # Read the name field before deletion\n",
        "\n",
        "HDEL school:1  name # Delete only the name field from the document\n",
        "\n",
        "HGETALL school:1 # Read the whole document to confirm the name field has been deleted\n",
        "```"
      ]
    },
    {
      "cell_type": "code",
      "execution_count": null,
      "metadata": {},
      "outputs": [],
      "source": [
        "!redis-cli $REDIS_CONN HGET school:1  name # Read the name field before deletion\n",
        "\n",
        "!redis-cli $REDIS_CONN HDEL school:1  name # Delete only the name field from the document\n",
        "\n",
        "!redis-cli $REDIS_CONN HGETALL school:1 # Read the whole document to confirm the name field has been deleted"
      ]
    },
    {
      "cell_type": "markdown",
      "metadata": {},
      "source": [
        "### Delete a document\n",
        "\n",
        "```Python\n",
        "DEL school:1 # Delete the entire document\n",
        "\n",
        "HGETALL school:1 # Confirm the entire document has been deleted\n",
        "```"
      ]
    },
    {
      "cell_type": "code",
      "execution_count": null,
      "metadata": {},
      "outputs": [],
      "source": [
        "!redis-cli $REDIS_CONN DEL school:1 # Delete the entire document\n",
        "\n",
        "!redis-cli $REDIS_CONN HGETALL school:1 # Confirm the entire document has been deleted"
      ]
    },
    {
      "cell_type": "markdown",
      "metadata": {},
      "source": [
        "# Indexing your data\n",
        "The Redis keyspace is unstructured and flat; by default, you can only access data by its primary key (keyname) making it very difficult to find a document based on a secondary characteristic, for example finding a school by name or listing all schools in a particular city. Redis Stack addresses this need by providing a possibility to index and query your data.\n",
        "\n",
        "Let's take a look at a very simple example:\n",
        "```python\n",
        "FT.CREATE idx:schools\n",
        "  ON HASH\n",
        "    PREFIX 1 \"school:\"\n",
        "  SCHEMA\n",
        "    \"name\" AS street TEXT NOSTEM\n",
        "    \"students\" NUMERIC SORTABLE\n",
        "    \"address_city\" AS city TAG SORTABLE\n",
        "```\n",
        "\n",
        "In the query above we specify that we want to create an index named `idx:schools` that will index all keys of type `HASH` with a prefix of `school:`. The engine will index the fields `name`, `students` and `city`, making it possible to search on them. After we create the index, the indexing will happen automatically and synchronously every time we create or modify a hash with the specified prefix, but the engine will also retroactively index all existing documents in the database that match the specified criteria."
      ]
    },
    {
      "cell_type": "markdown",
      "metadata": {},
      "source": [
        "## Create a hash index\n",
        "\n",
        "Let's expand this simple example to our use case:\n",
        "\n",
        "```python\n",
        "# Create an index on hash keys prefixed with \"school:\"\n",
        "# Note that it is possible to index either every hash or every JSON document in the keyspace or configure indexing only for a subset of the same data type documents described by a prefix.\n",
        "\n",
        "FT.CREATE idx:schools                         # Index name\n",
        "  ON HASH                                     # Indicates the type of data to index\n",
        "    PREFIX 1 \"school:\"                        # Tells the index which keys it should index\n",
        "  SCHEMA\n",
        "    name TEXT NOSTEM SORTABLE                 # Will be indexed as a sortable TEXT field. Stemming is disabled, which is ideal for proper names.\n",
        "    description TEXT\n",
        "    class TAG                                 # Will be indexed as a TAG field. Will allow exact-match queries.\n",
        "    type TAG SEPARATOR \";\"                    # For tag fields, a separator indicates how the text contained in the field is to be split into individual tags\n",
        "    address_city AS city TAG\n",
        "    address_street AS address TEXT NOSTEM     # 'address_street' field will be indexed as TEXT, without stemming and can be referred to as 'street' due to the '... AS fieldname ...' construct.\n",
        "    students NUMERIC SORTABLE                 # Will be indexed as a numeric field. Will permit sorting during query\n",
        "    location GEO \n",
        "```"
      ]
    },
    {
      "cell_type": "code",
      "execution_count": null,
      "metadata": {},
      "outputs": [],
      "source": [
        "# Create an index on hash keys prefixed with \"school:\" \n",
        "# Note that it is possible to index either every hash or every JSON document in the keyspace or configure indexing only for a subset of the same data type documents described by a prefix.\n",
        "!redis-cli $REDIS_CONN FT.CREATE idx:schools  ON HASH PREFIX 1 \"school:\" SCHEMA name TEXT NOSTEM SORTABLE description TEXT class TAG type TAG SEPARATOR \";\" address_city AS city TAG address_street AS address TEXT NOSTEM students NUMERIC SORTABLE location GEO"
      ]
    },
    {
      "cell_type": "markdown",
      "metadata": {},
      "source": [
        "## Additional index information\n",
        "You can get some additional data about your indices with the `FT.LIST` and `FT.INFO` commands:\n",
        "```python\n",
        "FT.LIST # Return a list of all indices\n",
        "\n",
        "FT.INFO \"idx:schools\" # Display information about a particular index\n",
        "```"
      ]
    },
    {
      "cell_type": "code",
      "execution_count": null,
      "metadata": {},
      "outputs": [],
      "source": [
        "!redis-cli $REDIS_CONN FT.LIST // Return a list of all indices\n",
        "\n",
        "!redis-cli $REDIS_CONN FT.INFO \"idx:schools\" // Display information about a particular index"
      ]
    },
    {
      "cell_type": "markdown",
      "metadata": {},
      "source": [
        "# Search and Querying Basics\n",
        "Now that we instructed Redis Stack on how we want our data indexed we can run different kinds of queries. Let's look at some examples:"
      ]
    },
    {
      "cell_type": "markdown",
      "metadata": {},
      "source": [
        "## Exact Text search\n",
        "You can run full text search queries on any field you marked to be indexed as `TEXT`:\n",
        "\n",
        "```python\n",
        "# Perform a text search on all text fields: query for documents in which the word 'nature' occurs\n",
        "FT.SEARCH idx:schools \"nature\"\n",
        "```"
      ]
    },
    {
      "cell_type": "code",
      "execution_count": null,
      "metadata": {},
      "outputs": [],
      "source": [
        "!redis-cli $REDIS_CONN FT.SEARCH idx:schools \"nature\""
      ]
    },
    {
      "cell_type": "markdown",
      "metadata": {},
      "source": [
        "## Return only certain fields\n",
        "```python \n",
        "# Use the RETURN statement followed by the number of fields you want to return and their names\n",
        "FT.SEARCH idx:schools \"nature\" RETURN 2 name description\n",
        "```"
      ]
    },
    {
      "cell_type": "code",
      "execution_count": null,
      "metadata": {},
      "outputs": [],
      "source": [
        "!redis-cli $REDIS_CONN FT.SEARCH idx:schools \"nature\" RETURN 2 name description"
      ]
    },
    {
      "cell_type": "markdown",
      "metadata": {},
      "source": [
        "## Fuzzy text search\n",
        "\n",
        "With Fuzzy search, we can search for words that are similar to the one we're querying for. The number of `%` indicates the allowed Levenshtein distance (number of different characters). So the query would \"culture\" would match on \"cultural\" too, because \"culture\" and \"cultural\" have a distance of two.\n",
        "```python\n",
        "# query for documents with words similar to 'culture' with a Levenshtein distance of 2.\n",
        "FT.SEARCH idx:schools \"%%culture%%\" RETURN 2 name description\n",
        "```"
      ]
    },
    {
      "cell_type": "code",
      "execution_count": null,
      "metadata": {},
      "outputs": [],
      "source": [
        "# Perform a Fuzzy text search on all text fields: query for documents with words similar to 'culture' with a Levenshtein distance of 2.\n",
        "!redis-cli $REDIS_CONN FT.SEARCH idx:schools \"%%culture%%\" RETURN 2 name description"
      ]
    },
    {
      "cell_type": "markdown",
      "metadata": {},
      "source": [
        "## Field-specific text search\n",
        "\n",
        "You can search on specific fields too:\n",
        "```python \n",
        "# query for documents that have the word \"innovative\" in the description\n",
        "FT.SEARCH idx:schools \"@description:innovative\"\n",
        "```"
      ]
    },
    {
      "cell_type": "code",
      "execution_count": null,
      "metadata": {},
      "outputs": [],
      "source": [
        "!redis-cli $REDIS_CONN FT.SEARCH idx:schools \"@description:innovative\""
      ]
    },
    {
      "cell_type": "markdown",
      "metadata": {},
      "source": [
        "# Numeric, tag and geo search\n",
        "Next, let's look at how we can query on numeric, tag and geo fields:\n"
      ]
    },
    {
      "cell_type": "markdown",
      "metadata": {},
      "source": [
        "## Numeric range query\n",
        "```python \n",
        "# Perform a numeric range query: find all schools with the number of students between 500 and 1000\n",
        "# To reference a field, use the @<field_name> construct\n",
        "# For numerical ranges, square brackets are inclusive of the listed values\n",
        "\n",
        "FT.SEARCH idx:schools \"@students:[500,1000]\"\n",
        "```"
      ]
    },
    {
      "cell_type": "code",
      "execution_count": null,
      "metadata": {},
      "outputs": [],
      "source": [
        "!redis-cli $REDIS_CONN FT.SEARCH idx:schools \"@students:[500,1000]\""
      ]
    },
    {
      "cell_type": "markdown",
      "metadata": {},
      "source": [
        "## Tag search"
      ]
    },
    {
      "cell_type": "code",
      "execution_count": null,
      "metadata": {},
      "outputs": [],
      "source": [
        "# Perform a tag search: query for documents that have the address_city field set to \"Lisbon\".\n",
        "# Note that we use curly braces around the tag. Also note that even though the field is called address_city in the hash, we can query it as \"city\".\n",
        "# That's because in the schema definition we used the ... AS fieldname ... construct, which allowed us to index \"address_city\" as \"city\".\n",
        "!redis-cli $REDIS_CONN FT.SEARCH idx:schools \"@city:{London}\""
      ]
    },
    {
      "cell_type": "markdown",
      "metadata": {},
      "source": [
        "## Geo search"
      ]
    },
    {
      "cell_type": "code",
      "execution_count": null,
      "metadata": {},
      "outputs": [],
      "source": [
        "# Search for all schools in a radius of 30km of a location with a longitude of 51.3 and latitude of 0.32\n",
        "!redis-cli $REDIS_CONN FT.SEARCH idx:schools \"@location:[51.3 0.32 30 km]\""
      ]
    },
    {
      "cell_type": "markdown",
      "metadata": {},
      "source": [
        "# Aggregations\n",
        "Aggregations are a way to process the results of a search query, group, sort and transform them - and extract analytic insights from them. Much like aggregation queries in other databases and search engines, they can be used to create analytics reports, or perform Faceted Search style queries.\n",
        "\n",
        "For example, we can group schools by city and count schools per group, giving us the number of schools per city. Or we could group by school class (independent/state) and see the average number of students per group.\n"
      ]
    },
    {
      "cell_type": "markdown",
      "metadata": {},
      "source": [
        "## Group by & sort by aggregation: COUNT"
      ]
    },
    {
      "cell_type": "code",
      "execution_count": null,
      "metadata": {},
      "outputs": [],
      "source": [
        "# Perform a Group By & Sort By aggregation of your documents: display the number of schools per city and sort by count\n",
        "!redis-cli $REDIS_CONN FT.AGGREGATE idx:schools \"*\" GROUPBY 1 @city REDUCE COUNT 0 AS schools_per_city SORTBY 2 @schools_per_city Asc"
      ]
    },
    {
      "cell_type": "markdown",
      "metadata": {},
      "source": [
        "## Group by & sort by aggregation: AVG"
      ]
    },
    {
      "cell_type": "code",
      "execution_count": null,
      "metadata": {},
      "outputs": [],
      "source": [
        "# Group by school class and show the average number of students per class.\n",
        "!redis-cli $REDIS_CONN FT.AGGREGATE idx:schools \"*\" GROUPBY 1 @class REDUCE AVG 1 students AS students_avg SORTBY 2 @students_avg Asc"
      ]
    },
    {
      "cell_type": "markdown",
      "metadata": {},
      "source": [
        "## Aggregation with the transformation of properties\n",
        "`APPLY` performs a 1-to-1 transformation on one or more properties in each record. It either stores the result as a new property down the pipeline or replaces any property using this transformation."
      ]
    },
    {
      "cell_type": "code",
      "execution_count": null,
      "metadata": {},
      "outputs": [],
      "source": [
        "# Perform an aggregation of your documents with an apply function: list all schools and their distance from a specific location\n",
        "# Note that you need to enclose the APPLY function within double quotes\n",
        "!redis-cli $REDIS_CONN FT.AGGREGATE idx:schools \"*\" LOAD 2 @name @location FILTER \"exists(@location)\" APPLY \"geodistance(@location,51.3, 0.32)\" AS dist SORTBY 2 @dist DESC"
      ]
    }
  ],
  "metadata": {
    "colab": {
      "include_colab_link": true,
      "provenance": []
    },
    "kernelspec": {
      "display_name": "Python 3 (ipykernel)",
      "language": "python",
      "name": "python3"
    },
    "language_info": {
      "codemirror_mode": {
        "name": "ipython",
        "version": 3
      },
      "file_extension": ".py",
      "mimetype": "text/x-python",
      "name": "python",
      "nbconvert_exporter": "python",
      "pygments_lexer": "ipython3",
      "version": "3.9.18"
    }
  },
  "nbformat": 4,
  "nbformat_minor": 0
}
